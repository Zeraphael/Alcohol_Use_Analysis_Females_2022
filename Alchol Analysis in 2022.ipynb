{
 "cells": [
  {
   "cell_type": "markdown",
   "id": "eade7686-29f5-44ad-9743-53d6097b3c00",
   "metadata": {},
   "source": [
    "# 📊 U.S. Chronic Disease Indicators Analysis\n",
    "\n",
    "## Objective:\n",
    "This project analyzes data from the U.S. Chronic Disease Indicators dataset with a focus on alcohol-related metrics among **females in 2022**, using the **Behavioral Risk Factor Surveillance System (BRFSS)** data source.\n",
    "\n",
    "The goal is to explore trends, missing data, and key statistics to understand how alcohol use is reported among different states and demographics.\n"
   ]
  },
  {
   "cell_type": "markdown",
   "id": "f96aab60-87d3-4d74-acbc-40a2ebeb6218",
   "metadata": {},
   "source": [
    "#import libraries\n",
    "import pandas as pd\n",
    "import matplotlib.pyplot as plt\n",
    "import seaborn as sns\n"
   ]
  },
  {
   "cell_type": "markdown",
   "id": "793cc294-0af5-49c5-9974-1c7a337eb14e",
   "metadata": {
    "scrolled": true
   },
   "source": [
    "#load dataset\n",
    "df = pd.read_csv(r'C:\\Users\\pc\\Downloads\\U.S._Chronic_Disease_Indicators.csv')\n",
    "df.head()"
   ]
  },
  {
   "cell_type": "markdown",
   "id": "dcf22896-b3a7-463c-9ffd-6ffbc1cd65c1",
   "metadata": {
    "scrolled": true
   },
   "source": [
    "#Filter dataset for Alcohol topic, 2022, BRFSS source, Female\n",
    "alcohol_females_2022=df[\n",
    "(df['DataSource']=='BRFSS') & \n",
    "(df['Topic']=='Alcohol') & \n",
    "(df['YearStart']==2022) &\n",
    "(df['Stratification1']=='Female')]\n",
    "alcohol_females_2022.head()"
   ]
  },
  {
   "cell_type": "markdown",
   "id": "de841d77-73ba-45d8-a4b3-63e65b39c326",
   "metadata": {
    "scrolled": true
   },
   "source": [
    "#Data overview\n",
    "alcohol_females_2022.info()"
   ]
  },
  {
   "cell_type": "markdown",
   "id": "d10430b1-3308-4419-b9df-bd2b963c80e4",
   "metadata": {
    "scrolled": true
   },
   "source": [
    "#data null checks\n",
    "alcohol_females_2022.isnull().sum()"
   ]
  },
  {
   "cell_type": "markdown",
   "id": "557ea018-e328-4baf-a287-8ba23db0fb43",
   "metadata": {
    "scrolled": true
   },
   "source": [
    "#loading only the essential columns\n",
    "alcohol_females_2022=alcohol_females_2022[['YearStart', 'LocationDesc', 'Topic', 'Question', 'DataValueType', 'DataValue','Stratification1']]\n",
    "alcohol_females_2022.head()"
   ]
  },
  {
   "cell_type": "markdown",
   "id": "59ae9bde-6716-4db4-ac4d-83ef0bd55ba7",
   "metadata": {},
   "source": [
    "#drop rows with missing values in key columns\n",
    "alcohol_females_2022.dropna(subset=['DataValue'], inplace=True)"
   ]
  },
  {
   "cell_type": "markdown",
   "id": "46855093-a91e-4da2-9a41-adba8940040a",
   "metadata": {},
   "source": [
    "#statistical describing of datavalue column\n",
    "alcohol_females_2022['DataValue'].describe()"
   ]
  },
  {
   "cell_type": "markdown",
   "id": "32043653-6661-4ecb-92ff-c2abcf419e3e",
   "metadata": {},
   "source": [
    "# the 5 largest states in prevalence\n",
    "top_states=alcohol_females_2022.groupby('LocationDesc')['DataValue'].mean().nlargest(5)\n",
    "top_states.head()"
   ]
  },
  {
   "cell_type": "markdown",
   "id": "b5f2a5ab-822f-4824-a2f4-3aa9371dd243",
   "metadata": {},
   "source": [
    "# viaulaization of the top 5 states in prevalence\n",
    "plt.figure(figsize=(20,5))\n",
    "sns.barplot(x=top_states.index, y=top_states.values, palette=\"Blues_d\")\n",
    "plt.title(\"Top 5 States: Alchol Prevalence in Females\")\n",
    "plt.ylabel(\"prevalence(%)\")\n",
    "plt.xticks(rotation=45)\n",
    "plt.show()"
   ]
  },
  {
   "cell_type": "markdown",
   "id": "cfe9c3bb-7474-462a-b3df-6aaffc64fc2b",
   "metadata": {},
   "source": [
    "#Average alcohol use reported by state\n",
    "plt.figure(figsize=(20,5))\n",
    "sns.barplot(x='LocationDesc', y='DataValue', data=alcohol_females_2022,errorbar=None)\n",
    "plt.title(\"Alchol Prevalence in Females by state\")\n",
    "plt.xticks(rotation=90)\n",
    "plt.ylabel('DataValue(%)')\n",
    "plt.xlabel('State')\n",
    "plt.tight_layout()\n",
    "plt.show()"
   ]
  },
  {
   "cell_type": "markdown",
   "id": "e16b4674-40cb-47df-8df1-da6dde852699",
   "metadata": {},
   "source": [
    "## 📝 Conclusion\n",
    "\n",
    "- The BRFSS dataset provides a comprehensive overview of alcohol use across U.S. states.\n",
    "- In 2022, we observed variability in alcohol usage rates among females.\n",
    "- I found that the top 5 states in alchol prevalence wasDistrict of Columbia, Montana, North Dakota, Minnesota, Wisconsin with average prevalence rate 10.100000, 8.883333, 8.550000, 8.216667, 8.166667 respectively.\n"
   ]
  }
 ],
 "metadata": {
  "kernelspec": {
   "display_name": "Python 3 (ipykernel)",
   "language": "python",
   "name": "python3"
  },
  "language_info": {
   "codemirror_mode": {
    "name": "ipython",
    "version": 3
   },
   "file_extension": ".py",
   "mimetype": "text/x-python",
   "name": "python",
   "nbconvert_exporter": "python",
   "pygments_lexer": "ipython3",
   "version": "3.13.1"
  }
 },
 "nbformat": 4,
 "nbformat_minor": 5
}
